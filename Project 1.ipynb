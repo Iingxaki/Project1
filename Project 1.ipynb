{
 "cells": [
  {
   "cell_type": "code",
   "execution_count": 22,
   "id": "e1dc56d2",
   "metadata": {},
   "outputs": [
    {
     "name": "stdout",
     "output_type": "stream",
     "text": [
      "You want to play rock, paper, scissors? (＾▽＾) \n",
      "\n",
      "Choose: (rock,paper,scissors) rock\n",
      "rock!\n",
      "A tie. Again.\n",
      "Choose: (rock,paper,scissors) rock\n",
      "paper!\n",
      "Ha, I won. *\\(^o^)/*\n",
      "do you want to play again? (Yes=1,No=0) Say yes pls... (ᗒᗣᗕ)՞ I'm lonely.0\n",
      "\n",
      "Don't go... (っ◞‸◟c)\n"
     ]
    }
   ],
   "source": [
    "import random\n",
    "dict2={1:\"rock\",2:\"paper\",3:\"scissors\"}\n",
    "dict1={\"rock\":1,\"paper\":2,\"scissors\":3}\n",
    "\n",
    "print(\"You want to play rock, paper, scissors? (＾▽＾) \\n\")\n",
    "exit = 1\n",
    "exit2=1\n",
    "attempt=0\n",
    "while exit!=0:\n",
    "    attempt+=1\n",
    "    y=random.randint(1,3)\n",
    "    cpu=dict2[y]\n",
    "    \n",
    "    x=input(\"Choose: (rock,paper,scissors) \")\n",
    "    if x in ['rock','paper','scissors']:\n",
    "        yours=dict1[x]\n",
    "        if (y==3 and yours==2) or (y==1 and yours==3) or (y==2 and yours==1):\n",
    "            print(cpu+\"!\")\n",
    "            print(\"Ha, I won. *\\(^o^)/*\")\n",
    "            exit=int(input(\"do you want to play again? (Yes=1,No=0) Say yes pls... (ᗒᗣᗕ)՞ I'm lonely.\"))\n",
    "        elif(y==yours):\n",
    "            print(cpu+\"!\")\n",
    "            print(\"A tie. Again.\")\n",
    "            exit=1\n",
    "        else:\n",
    "            print(cpu+\"!\")\n",
    "            print(f\"I lost at attempt {attempt}. I don't want to play anymore. ໒( ಥ Ĺ̯ ಥ )७\")\n",
    "            exit=0\n",
    "    elif attempt==1:\n",
    "        print(\"That's not rock, paper, or scissors! ( ✧≖ ͜ʖ≖)\")\n",
    "    else:\n",
    "        print(\"That's not rock, paper, or scissors. You're cheating!!! (༎ຶ︿༎ຶ)\")\n",
    "        \n",
    "if (y==3 and yours==2) or (y==1 and yours==3) or (y==2 and yours==1):\n",
    "    print(\"\\nDon't go... (っ◞‸◟c)\")\n",
    "else:\n",
    "    exit=0\n",
    "    "
   ]
  },
  {
   "cell_type": "code",
   "execution_count": null,
   "id": "1c93b6d3",
   "metadata": {},
   "outputs": [],
   "source": []
  }
 ],
 "metadata": {
  "kernelspec": {
   "display_name": "Python 3 (ipykernel)",
   "language": "python",
   "name": "python3"
  },
  "language_info": {
   "codemirror_mode": {
    "name": "ipython",
    "version": 3
   },
   "file_extension": ".py",
   "mimetype": "text/x-python",
   "name": "python",
   "nbconvert_exporter": "python",
   "pygments_lexer": "ipython3",
   "version": "3.9.13"
  }
 },
 "nbformat": 4,
 "nbformat_minor": 5
}
